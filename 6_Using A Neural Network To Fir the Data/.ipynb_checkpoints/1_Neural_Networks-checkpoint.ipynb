{
 "cells": [
  {
   "cell_type": "code",
   "execution_count": 1,
   "metadata": {},
   "outputs": [],
   "source": [
    "import numpy as np \n",
    "import torch \n",
    "import torch.nn as nn "
   ]
  },
  {
   "cell_type": "markdown",
   "metadata": {},
   "source": [
    "# 1. Affine transformation for fully-connected layer \n",
    "* ```nn.Linear(input_node, output_node)```\n",
    "* ```n_input```: the number of nodes of input \n",
    "* ```n_output```: the number of nodes of output"
   ]
  },
  {
   "cell_type": "code",
   "execution_count": 2,
   "metadata": {},
   "outputs": [],
   "source": [
    "def Affine_model(n_input: int, n_output: int):\n",
    "    model = nn.Linear(n_input, n_output)\n",
    "    return model "
   ]
  },
  {
   "cell_type": "markdown",
   "metadata": {},
   "source": [
    "***"
   ]
  },
  {
   "cell_type": "code",
   "execution_count": 16,
   "metadata": {},
   "outputs": [
    {
     "data": {
      "text/plain": [
       "torch.Size([11, 1])"
      ]
     },
     "execution_count": 16,
     "metadata": {},
     "output_type": "execute_result"
    }
   ],
   "source": [
    "# _Start: Load data \n",
    "t_c = [0.5,  14.0, 15.0, 28.0, 11.0,  8.0,  3.0, -4.0,  6.0, 13.0, 21.0]    # target label \n",
    "t_u = [35.7, 55.9, 58.2, 81.9, 56.3, 48.9, 33.9, 21.8, 48.4, 60.4, 68.4]    # input \n",
    "t_c = torch.tensor(t_c).unsqueeze(1) # <1>\n",
    "t_u = torch.tensor(t_u).unsqueeze(1) # <1>\n",
    "# _End: Load data \n",
    "\n",
    "t_u.shape"
   ]
  },
  {
   "cell_type": "code",
   "execution_count": 15,
   "metadata": {},
   "outputs": [
    {
     "name": "stdout",
     "output_type": "stream",
     "text": [
      "********** < Data Shuffling: start > ***********\n",
      "Shuffled indices:  tensor([ 2,  7,  6,  3, 10,  8,  5,  9,  1,  4,  0])\n",
      "training indices:  tensor([ 2,  7,  6,  3, 10,  8,  5,  9,  1])\n",
      "validation indices:  tensor([4, 0])\n",
      "********** < Data Shuffling: end > **********\n",
      "\n",
      "Before:  tensor([[56.3000],\n",
      "        [35.7000]])\n",
      "After:  tensor([[5.6300],\n",
      "        [3.5700]])\n"
     ]
    }
   ],
   "source": [
    "# _Start: Shuffle trainig set and validation set \n",
    "n_samples = t_u.shape[0]\n",
    "n_val = int(0.2 * n_samples)   # 20% of the total samples \n",
    "\n",
    "\n",
    "shuffled_indices = torch.randperm(n_samples)  # shuffle the indices \n",
    "train_indices = shuffled_indices[:-n_val]\n",
    "val_indices = shuffled_indices[-n_val:]\n",
    "\n",
    "t_c_train = t_c[train_indices]\n",
    "t_u_train = t_u[train_indices]\n",
    "\n",
    "t_c_val  = t_c[val_indices]\n",
    "t_u_val  = t_u[val_indices]\n",
    "# _End: Shuffle trainig set and validation set \n",
    "\n",
    "print(\"********** < Data Shuffling: start > ***********\")\n",
    "print(\"Shuffled indices: \", shuffled_indices)\n",
    "print(\"training indices: \", train_indices)\n",
    "print(\"validation indices: \", val_indices)\n",
    "print(\"********** < Data Shuffling: end > **********\", end=\"\\n\\n\")\n",
    "\n",
    "\n",
    "# _Start: data standardization\n",
    "t_un_train = 0.1 * t_u_train \n",
    "t_un_val   = 0.1 * t_u_val \n",
    "# _End: data standardization\n",
    "\n",
    "print(\"Before: \", t_u_val)\n",
    "print(\"After: \", t_un_val)"
   ]
  },
  {
   "cell_type": "code",
   "execution_count": null,
   "metadata": {},
   "outputs": [],
   "source": []
  }
 ],
 "metadata": {
  "kernelspec": {
   "display_name": "Python [conda env:pytorch_env] *",
   "language": "python",
   "name": "conda-env-pytorch_env-py"
  },
  "language_info": {
   "codemirror_mode": {
    "name": "ipython",
    "version": 3
   },
   "file_extension": ".py",
   "mimetype": "text/x-python",
   "name": "python",
   "nbconvert_exporter": "python",
   "pygments_lexer": "ipython3",
   "version": "3.7.7"
  }
 },
 "nbformat": 4,
 "nbformat_minor": 4
}
