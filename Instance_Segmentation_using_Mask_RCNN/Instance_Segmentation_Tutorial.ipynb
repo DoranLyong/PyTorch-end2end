{
 "cells": [
  {
   "cell_type": "code",
   "execution_count": 10,
   "metadata": {},
   "outputs": [],
   "source": [
    "import os\n"
   ]
  },
  {
   "cell_type": "code",
   "execution_count": 11,
   "metadata": {},
   "outputs": [],
   "source": [
    "import csv\n",
    "import subprocess\n",
    "from tqdm import tqdm"
   ]
  },
  {
   "cell_type": "code",
   "execution_count": 12,
   "metadata": {},
   "outputs": [],
   "source": [
    "def get_imageid_from_masks(mask_dir_path):\n",
    "    \n",
    "    ids_list = os.listdir(mask_dir_path)\n",
    "    img_ids = []\n",
    "\n",
    "    for idl in ids_list:\n",
    "        t = idl.split(\"_\")[0]\n",
    "        img_ids.append(t)\n",
    "\n",
    "    return set(img_ids)"
   ]
  },
  {
   "cell_type": "code",
   "execution_count": 13,
   "metadata": {},
   "outputs": [],
   "source": [
    "def get_class_annotations(classes_list, class_descriptions_csv, annotations_csv):\n",
    "    #list of selected classes\n",
    "    classes = classes_list\n",
    "\n",
    "    #Create dict with className to classId mapping\n",
    "    with open(class_descriptions_csv, mode='r') as infile:\n",
    "        reader = csv.reader(infile)\n",
    "        dict_list = {rows[1]:rows[0] for rows in reader}\n",
    "    \n",
    "    csvreader = open(annotations_csv, \"r\")\n",
    "    class_annotations = {}\n",
    "    \n",
    "    for ind in range(0, len(classes)):\n",
    "        class_name = classes[ind]\n",
    "        class_annotations[class_name] = []\n",
    "        print('Class {}: {}'.format(ind, class_name))\n",
    "\n",
    "        ##Select the annotations with backpack classID\n",
    "        for line in csvreader:\n",
    "            if dict_list[class_name] in line:\n",
    "                class_annotations[class_name].append(line.rstrip())\n",
    "                \n",
    "    return class_annotations"
   ]
  },
  {
   "cell_type": "code",
   "execution_count": 5,
   "metadata": {},
   "outputs": [],
   "source": [
    "def download_images_for_a_class(annotations, class_name, mask_dir_path, download_dir):\n",
    "    #Create directory for downloading images\n",
    "\n",
    "    os.makedirs(download_dir, exist_ok=True)\n",
    "        \n",
    "    class_annotations = annotations[class_name]\n",
    "    total_annotations = len(class_annotations)\n",
    "    image_id_set = get_imageid_from_masks(mask_dir_path)\n",
    "    print('Number of unique IDs: {}'.format(len(image_id_set)))\n",
    "\n",
    "    for line in class_annotations[0:total_annotations]:\n",
    "        line_parts = line.split(',')\n",
    "        image_id = line_parts[1]\n",
    "\n",
    "        if image_id not in image_id_set:\n",
    "            continue\n",
    "            \n",
    "        image_url = 's3://open-images-dataset/train/{}.jpg'.format(image_id)\n",
    "        # print(image_url)\n",
    "        download_path = os.path.join(download_dir, '{}.jpg'.format(image_id))\n",
    "        print(download_path)\n",
    "        subprocess.run(['aws', 's3', '--no-sign-request', '--only-show-errors', 'cp', image_url, download_path])\n",
    "    \n",
    "    return"
   ]
  },
  {
   "cell_type": "markdown",
   "metadata": {},
   "source": [
    "# Data preparation "
   ]
  },
  {
   "cell_type": "code",
   "execution_count": 6,
   "metadata": {},
   "outputs": [],
   "source": [
    "# create a data root\n",
    "data_root = '../../backpack_data'\n",
    "\n",
    "os.makedirs(data_root, exist_ok=True)"
   ]
  },
  {
   "cell_type": "code",
   "execution_count": 7,
   "metadata": {},
   "outputs": [
    {
     "name": "stdout",
     "output_type": "stream",
     "text": [
      "class_df_path: ../../backpack_data\\class-descriptions-segmentable.csv\n",
      "seg_csv_path: ../../backpack_data\\train-annotations-object-segmentation.csv\n",
      "backpack_image_dir: ../../backpack_data\\backpack-images\n",
      "backpack_mask_dir: ../../backpack_data\\backpack-masks\n"
     ]
    }
   ],
   "source": [
    "cd_path = os.path.join(data_root, 'class-descriptions-segmentable.csv')\n",
    "seg_csv_path = os.path.join(data_root, 'train-annotations-object-segmentation.csv')\n",
    "backpack_image_dir = os.path.join(data_root, 'backpack-images')\n",
    "backpack_mask_dir = os.path.join(data_root, 'backpack-masks')\n",
    "\n",
    "\n",
    "print(f\"class_df_path: {cd_path}\")\n",
    "print(f\"seg_csv_path: {seg_csv_path}\")\n",
    "print(f\"backpack_image_dir: {backpack_image_dir}\")\n",
    "print(f\"backpack_mask_dir: {backpack_mask_dir}\")"
   ]
  },
  {
   "cell_type": "code",
   "execution_count": 8,
   "metadata": {},
   "outputs": [
    {
     "name": "stdout",
     "output_type": "stream",
     "text": [
      "Class 0: Backpack\n",
      "Total number of annotations: 1082\n"
     ]
    }
   ],
   "source": [
    "annotations = get_class_annotations( ['Backpack'], class_descriptions_csv= cd_path, \n",
    "                                      annotations_csv= seg_csv_path)\n",
    "\n",
    "print('Total number of annotations: {}'.format(len(annotations['Backpack'])))"
   ]
  },
  {
   "cell_type": "code",
   "execution_count": 9,
   "metadata": {},
   "outputs": [
    {
     "name": "stdout",
     "output_type": "stream",
     "text": [
      "Number of unique IDs: 329\n",
      "../../backpack_data\\backpack-images\\04feb4c5056e2f7e.jpg\n"
     ]
    },
    {
     "ename": "FileNotFoundError",
     "evalue": "[WinError 2] 지정된 파일을 찾을 수 없습니다",
     "output_type": "error",
     "traceback": [
      "\u001b[1;31m---------------------------------------------------------------------------\u001b[0m",
      "\u001b[1;31mFileNotFoundError\u001b[0m                         Traceback (most recent call last)",
      "\u001b[1;32m<ipython-input-9-23e2a1cc9e7c>\u001b[0m in \u001b[0;36m<module>\u001b[1;34m\u001b[0m\n\u001b[0;32m      5\u001b[0m \u001b[1;32mif\u001b[0m \u001b[0mdownload_unzip\u001b[0m\u001b[1;33m:\u001b[0m\u001b[1;33m\u001b[0m\u001b[1;33m\u001b[0m\u001b[0m\n\u001b[0;32m      6\u001b[0m     download_images_for_a_class(annotations, 'Backpack', \n\u001b[1;32m----> 7\u001b[1;33m                                 backpack_mask_dir, backpack_image_dir)\n\u001b[0m",
      "\u001b[1;32m<ipython-input-5-a6ce1594ac0a>\u001b[0m in \u001b[0;36mdownload_images_for_a_class\u001b[1;34m(annotations, class_name, mask_dir_path, download_dir)\u001b[0m\n\u001b[0;32m     20\u001b[0m         \u001b[0mdownload_path\u001b[0m \u001b[1;33m=\u001b[0m \u001b[0mos\u001b[0m\u001b[1;33m.\u001b[0m\u001b[0mpath\u001b[0m\u001b[1;33m.\u001b[0m\u001b[0mjoin\u001b[0m\u001b[1;33m(\u001b[0m\u001b[0mdownload_dir\u001b[0m\u001b[1;33m,\u001b[0m \u001b[1;34m'{}.jpg'\u001b[0m\u001b[1;33m.\u001b[0m\u001b[0mformat\u001b[0m\u001b[1;33m(\u001b[0m\u001b[0mimage_id\u001b[0m\u001b[1;33m)\u001b[0m\u001b[1;33m)\u001b[0m\u001b[1;33m\u001b[0m\u001b[1;33m\u001b[0m\u001b[0m\n\u001b[0;32m     21\u001b[0m         \u001b[0mprint\u001b[0m\u001b[1;33m(\u001b[0m\u001b[0mdownload_path\u001b[0m\u001b[1;33m)\u001b[0m\u001b[1;33m\u001b[0m\u001b[1;33m\u001b[0m\u001b[0m\n\u001b[1;32m---> 22\u001b[1;33m         \u001b[0msubprocess\u001b[0m\u001b[1;33m.\u001b[0m\u001b[0mrun\u001b[0m\u001b[1;33m(\u001b[0m\u001b[1;33m[\u001b[0m\u001b[1;34m'aws'\u001b[0m\u001b[1;33m,\u001b[0m \u001b[1;34m's3'\u001b[0m\u001b[1;33m,\u001b[0m \u001b[1;34m'--no-sign-request'\u001b[0m\u001b[1;33m,\u001b[0m \u001b[1;34m'--only-show-errors'\u001b[0m\u001b[1;33m,\u001b[0m \u001b[1;34m'cp'\u001b[0m\u001b[1;33m,\u001b[0m \u001b[0mimage_url\u001b[0m\u001b[1;33m,\u001b[0m \u001b[0mdownload_path\u001b[0m\u001b[1;33m]\u001b[0m\u001b[1;33m)\u001b[0m\u001b[1;33m\u001b[0m\u001b[1;33m\u001b[0m\u001b[0m\n\u001b[0m\u001b[0;32m     23\u001b[0m \u001b[1;33m\u001b[0m\u001b[0m\n\u001b[0;32m     24\u001b[0m     \u001b[1;32mreturn\u001b[0m\u001b[1;33m\u001b[0m\u001b[1;33m\u001b[0m\u001b[0m\n",
      "\u001b[1;32m~\\anaconda3\\envs\\pytorch_env\\lib\\subprocess.py\u001b[0m in \u001b[0;36mrun\u001b[1;34m(input, capture_output, timeout, check, *popenargs, **kwargs)\u001b[0m\n\u001b[0;32m    486\u001b[0m         \u001b[0mkwargs\u001b[0m\u001b[1;33m[\u001b[0m\u001b[1;34m'stderr'\u001b[0m\u001b[1;33m]\u001b[0m \u001b[1;33m=\u001b[0m \u001b[0mPIPE\u001b[0m\u001b[1;33m\u001b[0m\u001b[1;33m\u001b[0m\u001b[0m\n\u001b[0;32m    487\u001b[0m \u001b[1;33m\u001b[0m\u001b[0m\n\u001b[1;32m--> 488\u001b[1;33m     \u001b[1;32mwith\u001b[0m \u001b[0mPopen\u001b[0m\u001b[1;33m(\u001b[0m\u001b[1;33m*\u001b[0m\u001b[0mpopenargs\u001b[0m\u001b[1;33m,\u001b[0m \u001b[1;33m**\u001b[0m\u001b[0mkwargs\u001b[0m\u001b[1;33m)\u001b[0m \u001b[1;32mas\u001b[0m \u001b[0mprocess\u001b[0m\u001b[1;33m:\u001b[0m\u001b[1;33m\u001b[0m\u001b[1;33m\u001b[0m\u001b[0m\n\u001b[0m\u001b[0;32m    489\u001b[0m         \u001b[1;32mtry\u001b[0m\u001b[1;33m:\u001b[0m\u001b[1;33m\u001b[0m\u001b[1;33m\u001b[0m\u001b[0m\n\u001b[0;32m    490\u001b[0m             \u001b[0mstdout\u001b[0m\u001b[1;33m,\u001b[0m \u001b[0mstderr\u001b[0m \u001b[1;33m=\u001b[0m \u001b[0mprocess\u001b[0m\u001b[1;33m.\u001b[0m\u001b[0mcommunicate\u001b[0m\u001b[1;33m(\u001b[0m\u001b[0minput\u001b[0m\u001b[1;33m,\u001b[0m \u001b[0mtimeout\u001b[0m\u001b[1;33m=\u001b[0m\u001b[0mtimeout\u001b[0m\u001b[1;33m)\u001b[0m\u001b[1;33m\u001b[0m\u001b[1;33m\u001b[0m\u001b[0m\n",
      "\u001b[1;32m~\\anaconda3\\envs\\pytorch_env\\lib\\subprocess.py\u001b[0m in \u001b[0;36m__init__\u001b[1;34m(self, args, bufsize, executable, stdin, stdout, stderr, preexec_fn, close_fds, shell, cwd, env, universal_newlines, startupinfo, creationflags, restore_signals, start_new_session, pass_fds, encoding, errors, text)\u001b[0m\n\u001b[0;32m    798\u001b[0m                                 \u001b[0mc2pread\u001b[0m\u001b[1;33m,\u001b[0m \u001b[0mc2pwrite\u001b[0m\u001b[1;33m,\u001b[0m\u001b[1;33m\u001b[0m\u001b[1;33m\u001b[0m\u001b[0m\n\u001b[0;32m    799\u001b[0m                                 \u001b[0merrread\u001b[0m\u001b[1;33m,\u001b[0m \u001b[0merrwrite\u001b[0m\u001b[1;33m,\u001b[0m\u001b[1;33m\u001b[0m\u001b[1;33m\u001b[0m\u001b[0m\n\u001b[1;32m--> 800\u001b[1;33m                                 restore_signals, start_new_session)\n\u001b[0m\u001b[0;32m    801\u001b[0m         \u001b[1;32mexcept\u001b[0m\u001b[1;33m:\u001b[0m\u001b[1;33m\u001b[0m\u001b[1;33m\u001b[0m\u001b[0m\n\u001b[0;32m    802\u001b[0m             \u001b[1;31m# Cleanup if the child failed starting.\u001b[0m\u001b[1;33m\u001b[0m\u001b[1;33m\u001b[0m\u001b[1;33m\u001b[0m\u001b[0m\n",
      "\u001b[1;32m~\\anaconda3\\envs\\pytorch_env\\lib\\subprocess.py\u001b[0m in \u001b[0;36m_execute_child\u001b[1;34m(self, args, executable, preexec_fn, close_fds, pass_fds, cwd, env, startupinfo, creationflags, shell, p2cread, p2cwrite, c2pread, c2pwrite, errread, errwrite, unused_restore_signals, unused_start_new_session)\u001b[0m\n\u001b[0;32m   1205\u001b[0m                                          \u001b[0menv\u001b[0m\u001b[1;33m,\u001b[0m\u001b[1;33m\u001b[0m\u001b[1;33m\u001b[0m\u001b[0m\n\u001b[0;32m   1206\u001b[0m                                          \u001b[0mos\u001b[0m\u001b[1;33m.\u001b[0m\u001b[0mfspath\u001b[0m\u001b[1;33m(\u001b[0m\u001b[0mcwd\u001b[0m\u001b[1;33m)\u001b[0m \u001b[1;32mif\u001b[0m \u001b[0mcwd\u001b[0m \u001b[1;32mis\u001b[0m \u001b[1;32mnot\u001b[0m \u001b[1;32mNone\u001b[0m \u001b[1;32melse\u001b[0m \u001b[1;32mNone\u001b[0m\u001b[1;33m,\u001b[0m\u001b[1;33m\u001b[0m\u001b[1;33m\u001b[0m\u001b[0m\n\u001b[1;32m-> 1207\u001b[1;33m                                          startupinfo)\n\u001b[0m\u001b[0;32m   1208\u001b[0m             \u001b[1;32mfinally\u001b[0m\u001b[1;33m:\u001b[0m\u001b[1;33m\u001b[0m\u001b[1;33m\u001b[0m\u001b[0m\n\u001b[0;32m   1209\u001b[0m                 \u001b[1;31m# Child is launched. Close the parent's copy of those pipe\u001b[0m\u001b[1;33m\u001b[0m\u001b[1;33m\u001b[0m\u001b[1;33m\u001b[0m\u001b[0m\n",
      "\u001b[1;31mFileNotFoundError\u001b[0m: [WinError 2] 지정된 파일을 찾을 수 없습니다"
     ]
    }
   ],
   "source": [
    "# make it true to download all required data\n",
    "download_unzip = True \n",
    "\n",
    "\n",
    "if download_unzip:\n",
    "    download_images_for_a_class(annotations, 'Backpack', \n",
    "                                backpack_mask_dir, backpack_image_dir)"
   ]
  },
  {
   "cell_type": "code",
   "execution_count": null,
   "metadata": {},
   "outputs": [],
   "source": []
  }
 ],
 "metadata": {
  "kernelspec": {
   "display_name": "Python [conda env:pytorch_env] *",
   "language": "python",
   "name": "conda-env-pytorch_env-py"
  },
  "language_info": {
   "codemirror_mode": {
    "name": "ipython",
    "version": 3
   },
   "file_extension": ".py",
   "mimetype": "text/x-python",
   "name": "python",
   "nbconvert_exporter": "python",
   "pygments_lexer": "ipython3",
   "version": "3.7.7"
  }
 },
 "nbformat": 4,
 "nbformat_minor": 4
}
